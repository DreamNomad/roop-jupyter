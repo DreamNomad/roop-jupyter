{
 "cells": [
  {
   "cell_type": "code",
   "execution_count": null,
   "id": "6992892f",
   "metadata": {},
   "outputs": [],
   "source": [
    "# 进入项目\n",
    "%cd roop"
   ]
  },
  {
   "cell_type": "code",
   "execution_count": null,
   "id": "fb1fe919-2d5c-4d83-a08a-f88e7e012e89",
   "metadata": {},
   "outputs": [],
   "source": [
    "!pip install -r requirements.txt\n",
    "\n",
    "# 如果出现只有CPU在工作，请运行这以下两个命令\n",
    "#!pip uninstall onnxruntime onnxruntime-gpu\n",
    "#!pip install onnxruntime-gpu==1.15.0"
   ]
  },
  {
   "cell_type": "code",
   "execution_count": null,
   "id": "58a238a1",
   "metadata": {},
   "outputs": [],
   "source": [
    "# 人脸源路径（只有一张人脸的图）\n",
    "source = \"content/r.png\"\n",
    "# 即将被替换人脸的视频\n",
    "target = \"content/v.mp4\"\n",
    "# 替换了人脸的视频输出路径\n",
    "output = \"content/out.mp4\""
   ]
  },
  {
   "cell_type": "code",
   "execution_count": null,
   "id": "8c7eead4-ebda-48f8-84eb-d632a3676e4f",
   "metadata": {},
   "outputs": [],
   "source": [
    "# 开始换脸\n",
    "\n",
    "Device = \"cuda\" #@param [\"cuda\", \"cpu\"]\n",
    "\n",
    "Processor = \"face_swapper\" #@param [\"face_swapper face_enhancer\", \"face_swapper\",\"face_enhancer\"]\n",
    "\n",
    "VideoEncoder = \"libx264\" #@param [\"libx264\", \"libx265\",\"ibvpx-vp9\"]\n",
    "\n",
    "VideoQuality = \"18\" #@param {type:\"string\"}\n",
    "\n",
    "KeepFPS = False #@param {type:\"boolean\"}\n",
    "KeepAudio = True #@param {type:\"boolean\"}\n",
    "KeepFrames = False #@param {type:\"boolean\"}\n",
    "ManyFaces = False #@param {type:\"boolean\"}\n",
    "\n",
    "KeepFPS =\"--keep-fps\" if KeepFPS==True else \"\"\n",
    "KeepAudio =\"--keep-audio\" if KeepAudio==True else \"\"\n",
    "KeepFrames =\"--keep-frames\" if KeepFrames==True else \"\"\n",
    "ManyFaces =\"--many-faces\" if ManyFaces==True else \"\"\n",
    "\n",
    "cmd = f\"run.py --execution-provider {Device} -s {source} -t {target} -o {output} --frame-processor {Processor} --video-encoder {VideoEncoder} --video-quality {VideoQuality} {KeepFPS} {KeepAudio} {KeepFrames} {ManyFaces}\"\n",
    "print(\"cmd:\"+cmd)\n",
    "!python $cmd\n"
   ]
  },
  {
   "cell_type": "markdown",
   "id": "46aac46f-35bd-42af-a189-ab55be4b0049",
   "metadata": {},
   "source": [
    "### 参数说明\n",
    "\n",
    "Device : 选CUDA就是使用GPU，选CPU就用CPU，如果你GPU配额用完了，可以用CPU顶一下。或者开Pro\n",
    "\n",
    "Precessor : 选择换脸还是人脸修复，默认全部启用，也可以单独使用一个功能。\n",
    "\n",
    "VideoEncoder : 视频编码器选择，一般用H264。\n",
    "\n",
    "VideoQuality : 视频质量，默认18，取值范围0-51\n",
    "\n",
    "KeepFPS : 保持帧率不变\n",
    "\n",
    "KeepAudio ： 保留音轨\n",
    "\n",
    "KeepFrames ： 保留分帧后的图片\n",
    "\n",
    "ManyFaces ： 替换所有人脸"
   ]
  },
  {
   "cell_type": "code",
   "execution_count": null,
   "id": "a76a1b5b-8074-468f-a3fd-8b6edd23750b",
   "metadata": {},
   "outputs": [],
   "source": []
  }
 ],
 "metadata": {
  "kernelspec": {
   "display_name": "Python 3 (ipykernel)",
   "language": "python",
   "name": "python3"
  },
  "language_info": {
   "codemirror_mode": {
    "name": "ipython",
    "version": 3
   },
   "file_extension": ".py",
   "mimetype": "text/x-python",
   "name": "python",
   "nbconvert_exporter": "python",
   "pygments_lexer": "ipython3",
   "version": "3.10.12"
  }
 },
 "nbformat": 4,
 "nbformat_minor": 5
}
